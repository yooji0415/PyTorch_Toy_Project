{
 "cells": [
  {
   "cell_type": "code",
   "execution_count": 1,
   "id": "90491b25",
   "metadata": {},
   "outputs": [],
   "source": [
    "import torch # 파이토치 라이브러리\n",
    "import torch.nn as nn # 딥러닝 네트워크 기본 구성요소 torch.nn\n",
    "import torch.nn.functional as F # 자주 사용되는 함수가 포함된 모듈 torch.nn.functional\n",
    "import torch.optim as optim # 가중치 추정에 필요한 최적화 알고리즘이 있는 torch.optim\n",
    "from torchvision import datasets, transforms # 딥러닝에서 자주 사용되는 데이터셋과 모델구조 및 이미지 변환 모듈 torchvision\n",
    "\n",
    "from matplotlib import pyplot as plt # 데이터 시각화\n",
    "%matplotlib inline"
   ]
  },
  {
   "cell_type": "code",
   "execution_count": 2,
   "id": "ef99df21",
   "metadata": {},
   "outputs": [
    {
     "name": "stdout",
     "output_type": "stream",
     "text": [
      "Current cuda device is cuda\n"
     ]
    }
   ],
   "source": [
    "is_cuda = torch.cuda.is_available() # cuda를 사용할 수 있는지 유무 판단\n",
    "device = torch.device('cuda' if is_cuda else 'cpu')\n",
    "print('Current cuda device is', device)"
   ]
  },
  {
   "cell_type": "code",
   "execution_count": 3,
   "id": "9979952e",
   "metadata": {},
   "outputs": [],
   "source": [
    "batch_size = 50 # 모델 가중치를 한 번 업데이트시킬 때 사용하는 샘플 단위 개수\n",
    "epoch_num = 15 # 학습 데이터를 모두 사용하여 학습하는 기본 단위 횟수\n",
    "learning_rate = 0.001 # Learning Rate"
   ]
  },
  {
   "cell_type": "code",
   "execution_count": 4,
   "id": "d67a0432",
   "metadata": {},
   "outputs": [
    {
     "name": "stdout",
     "output_type": "stream",
     "text": [
      "number of training data:  60000\n",
      "number of test data:  10000\n"
     ]
    }
   ],
   "source": [
    "# 데이터 불러오기\n",
    "# MNIST(경로, 용도, 다운로드, 전처리)\n",
    "# 전처리의 경우 PyTorch가 입력을 Tensor를 사용하기 때문에 transforms.ToTensor() 사용\n",
    "train_data = datasets.MNIST(root = './data', train = True, download = True, transform = transforms.ToTensor())\n",
    "test_data = datasets.MNIST(root = './data', train = False, download = True, transform = transforms.ToTensor())\n",
    "\n",
    "print('number of training data: ', len(train_data))\n",
    "print('number of test data: ', len(test_data))"
   ]
  },
  {
   "cell_type": "code",
   "execution_count": 5,
   "id": "8754314f",
   "metadata": {},
   "outputs": [
    {
     "data": {
      "image/png": "[encoded data removed]",
      "text/plain": [
       "<Figure size 432x288 with 1 Axes>"
      ]
     },
     "metadata": {
      "needs_background": "light"
     },
     "output_type": "display_data"
    }
   ],
   "source": [
    "image, label = train_data[0] # 첫 번째 학습 데이터 이미지와 라벨 \n",
    "plt.imshow(image.squeeze().numpy(), cmap='gray') # squeeze() 함수를 이용해서 2차원으로 전환\n",
    "plt.title('label: %s' % label)\n",
    "plt.show()"
   ]
  },
  {
   "cell_type": "code",
   "execution_count": 6,
   "id": "3299b5b4",
   "metadata": {},
   "outputs": [
    {
     "name": "stdout",
     "output_type": "stream",
     "text": [
      "name            | type                      | size\n",
      "Num of Batch    |                           | 1200\n",
      "first_batch     | <class 'list'>            | 2\n",
      "first_batch[0]  | <class 'torch.Tensor'>    | torch.Size([50, 1, 28, 28])\n",
      "first_batch[1]  | <class 'torch.Tensor'>    | torch.Size([50])\n"
     ]
    }
   ],
   "source": [
    "# 미니배치 구성\n",
    "# torch.utils.data.DataLoader를 통해서 학습 과정을 반복시행 할 때마다 미니 배치를 하나씩 꺼내온다\n",
    "# DataLoader(구성할 데이터, 미니 배치 사이즈, 순서를 섞을지)\n",
    "train_loader = torch.utils.data.DataLoader(dataset = train_data,\n",
    "                                           batch_size = batch_size,\n",
    "                                           shuffle = True)\n",
    "test_loader = torch.utils.data.DataLoader(dataset = test_data,\n",
    "                                          batch_size = batch_size,\n",
    "                                          shuffle = True)\n",
    "\n",
    "# 60000개의 데이터를 50의 배치 사이즈로 나눠서 1200\n",
    "# 미니 배치의 첫 번째 요소는 4차원 Tensor\n",
    "# 미니 배치의 두 번째 요소는 미니 배치의 정답\n",
    "first_batch = train_loader.__iter__().__next__()\n",
    "print('{:15s} | {:<25s} | {}'.format('name', 'type', 'size'))\n",
    "print('{:15s} | {:<25s} | {}'.format('Num of Batch', '', len(train_loader)))\n",
    "print('{:15s} | {:<25s} | {}'.format('first_batch', str(type(first_batch)), len(first_batch)))\n",
    "print('{:15s} | {:<25s} | {}'.format('first_batch[0]', str(type(first_batch[0])), first_batch[0].shape))\n",
    "print('{:15s} | {:<25s} | {}'.format('first_batch[1]', str(type(first_batch[1])), first_batch[1].shape))"
   ]
  },
  {
   "cell_type": "code",
   "execution_count": 7,
   "id": "03456abe",
   "metadata": {},
   "outputs": [],
   "source": [
    "class CNN(nn.Module): # nn.Module을 상속받는 CNN 클래스 \n",
    "    def __init__(self): # 가중치를 정의한다\n",
    "        super(CNN, self).__init__() # nn.Module 클래스의 속성을 상속받고 초기화\n",
    "        self.conv1 = nn.Conv2d(1, 32, 3, 1) # Convolution Layer (입력 Tensor의 채널, 출력 Tensor의 크기, 필터 크기, stride)\n",
    "        self.conv2 = nn.Conv2d(32, 64, 3, 1)\n",
    "        self.dropout1 = nn.Dropout2d(0.25) # Dropout (확률)\n",
    "        self.dropout2 = nn.Dropout2d(0.5)\n",
    "        self.fc1 = nn.Linear(9216, 128) # Fully-connected Layer (input vector, output vector)\n",
    "        self.fc2 = nn.Linear(128, 10)\n",
    "        \n",
    "    def forward(self, x): # FeedForward 연산 정의\n",
    "        x = self.conv1(x) \n",
    "        x = F.relu(x)\n",
    "        x = self.conv2(x)\n",
    "        x = F.relu(x)\n",
    "        x = F.max_pool2d(x, 2) # MaxPooling 2*2 size\n",
    "        x = self.dropout1(x)\n",
    "        x = torch.flatten(x, 1) # Flatten 1차원으로\n",
    "        x = self.fc1(x)\n",
    "        x = F.relu(x)\n",
    "        x = self.dropout2(x)\n",
    "        x = self.fc2(x)\n",
    "        output = F.log_softmax(x, dim = 1) # 연산속도를 높힌 log_softmax() 사용\n",
    "        return output"
   ]
  },
  {
   "cell_type": "code",
   "execution_count": 8,
   "id": "bc1999b5",
   "metadata": {},
   "outputs": [],
   "source": [
    "model = CNN().to(device) # model 인스턴스 생성 및 연산 장비 인식\n",
    "# 손실 함수를 최소로 하는 가중치를 찾기 위해 Adam 알고리즘의 optimizer 사용\n",
    "optimizer = optim.Adam(model.parameters(), lr = learning_rate) \n",
    "# 다중 클래스 분류 문제기 때문에 Cross Entropy 적용\n",
    "criterion = nn.CrossEntropyLoss()"
   ]
  },
  {
   "cell_type": "code",
   "execution_count": 9,
   "id": "be4668ee",
   "metadata": {},
   "outputs": [
    {
     "name": "stdout",
     "output_type": "stream",
     "text": [
      "CNN(\n",
      "  (conv1): Conv2d(1, 32, kernel_size=(3, 3), stride=(1, 1))\n",
      "  (conv2): Conv2d(32, 64, kernel_size=(3, 3), stride=(1, 1))\n",
      "  (dropout1): Dropout2d(p=0.25, inplace=False)\n",
      "  (dropout2): Dropout2d(p=0.5, inplace=False)\n",
      "  (fc1): Linear(in_features=9216, out_features=128, bias=True)\n",
      "  (fc2): Linear(in_features=128, out_features=10, bias=True)\n",
      ")\n"
     ]
    }
   ],
   "source": [
    "print(model) # 모델 구조 확인"
   ]
  },
  {
   "cell_type": "code",
   "execution_count": 10,
   "id": "1255753f",
   "metadata": {},
   "outputs": [
    {
     "name": "stdout",
     "output_type": "stream",
     "text": [
      "Train Step: 0\tLoss: 2.302\n",
      "Train Step: 1000\tLoss: 0.072\n",
      "Train Step: 2000\tLoss: 0.048\n",
      "Train Step: 3000\tLoss: 0.031\n",
      "Train Step: 4000\tLoss: 0.015\n",
      "Train Step: 5000\tLoss: 0.014\n",
      "Train Step: 6000\tLoss: 0.020\n",
      "Train Step: 7000\tLoss: 0.052\n",
      "Train Step: 8000\tLoss: 0.048\n",
      "Train Step: 9000\tLoss: 0.129\n",
      "Train Step: 10000\tLoss: 0.051\n",
      "Train Step: 11000\tLoss: 0.001\n",
      "Train Step: 12000\tLoss: 0.038\n",
      "Train Step: 13000\tLoss: 0.011\n",
      "Train Step: 14000\tLoss: 0.012\n",
      "Train Step: 15000\tLoss: 0.009\n",
      "Train Step: 16000\tLoss: 0.037\n",
      "Train Step: 17000\tLoss: 0.016\n"
     ]
    }
   ],
   "source": [
    "model.train() # 학습모드 전환\n",
    "i = 0 \n",
    "for epoch in range(epoch_num): # 반복 학습 횟수 epoch_num\n",
    "    for data, target in train_loader: # 미니 배치를 하나씩 꺼내서 사용\n",
    "        data = data.to(device) # 데이터를 장비에 할당 \n",
    "        target = target.to(device) # 정답을 장비에 할당\n",
    "        optimizer.zero_grad() # 이전 반복 시행에서 저장된 optimizer의 Gradient 초기화\n",
    "        output = model(data) # 결과값 계산\n",
    "        loss = criterion(output, target) # 손실함수 계산 \n",
    "        loss.backward() # 결과를 통해 Gradient 계산\n",
    "        optimizer.step() # 가중치 업데이트\n",
    "        if i%1000 == 0:\n",
    "            print('Train Step: {}\\tLoss: {:.3f}'.format(i, loss.item()))\n",
    "        i += 1"
   ]
  },
  {
   "cell_type": "code",
   "execution_count": 15,
   "id": "cd432d97",
   "metadata": {},
   "outputs": [
    {
     "name": "stdout",
     "output_type": "stream",
     "text": [
      "Test set: Accuracy: 99.23%\n"
     ]
    }
   ],
   "source": [
    "model.eval() # 평가모드 전환 / Dropout이 적용되지 않고 Batch-Normalization도 평가모드가 된다\n",
    "correct = 0 \n",
    "for data, target in test_loader:\n",
    "    data = data.to(device)\n",
    "    target = target.to(device)\n",
    "    output = model(data)\n",
    "    prediction = output.data.max(1)[1] # log_softmax 값이 가장 큰 인덱스를 예측값으로 저장\n",
    "    correct += prediction.eq(target.data).sum() # 미니배치 중 정답의 개수를 구하고 누적으로 더한다\n",
    "    \n",
    "print('Test set: Accuracy: {:.2f}%'.format(100 * correct / len(test_loader.dataset))) # 정확도 계산 및 출력"
   ]
  },
  {
   "cell_type": "code",
   "execution_count": null,
   "id": "819eeb83",
   "metadata": {},
   "outputs": [],
   "source": []
  }
 ],
 "metadata": {
  "kernelspec": {
   "display_name": "Python 3 (ipykernel)",
   "language": "python",
   "name": "python3"
  },
  "language_info": {
   "codemirror_mode": {
    "name": "ipython",
    "version": 3
   },
   "file_extension": ".py",
   "mimetype": "text/x-python",
   "name": "python",
   "nbconvert_exporter": "python",
   "pygments_lexer": "ipython3",
   "version": "3.9.7"
  }
 },
 "nbformat": 4,
 "nbformat_minor": 5
}
